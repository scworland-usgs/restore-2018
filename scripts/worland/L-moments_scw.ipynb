{
 "cells": [
  {
   "cell_type": "markdown",
   "metadata": {},
   "source": [
    "## L-moments short example in R\n",
    "\n",
    "This document provides a short introduction to L-moments for pedagogical purposes.\n",
    "\n",
    "Starting with,\n",
    "\n",
    "$$\n",
    "\\begin{align}\n",
    "\\beta_0 &= \\frac{1}{n}\\sum_{j=1}^{n} x_j \\\\\n",
    "\\beta_1 &= \\frac{1}{n}\\sum_{j=2}^{n} x_j[(j-1)/(n-1)] \\\\\n",
    "\\beta_2 &= \\frac{1}{n}\\sum_{j=3}^{n} x_j[(j-1)(j-2)]/[(n-1)/(n-2)] \\\\\n",
    "\\beta_3 &= \\frac{1}{n}\\sum_{j=3}^{n} x_j[(j-1)(j-2)(j-3)]/[(n-1)/(n-2)(n-3)]\n",
    "\\end{align}\n",
    "$$\n",
    "\n",
    "L1 through L4 can be calculated as follows,\n",
    "\n",
    "$$\n",
    "\\begin{align}\n",
    "L_1 &= \\beta_0 \\\\\n",
    "L_2 &= 2\\beta_1 - \\beta_0 \\\\\n",
    "L_3 &= 6\\beta_2 - 6\\beta_1 + \\beta_0 \\\\\n",
    "L_4 &= 20\\beta_3 - 30\\beta_2 + 12\\beta_1 - \\beta_0.\n",
    "\\end{align}\n",
    "$$\n",
    "\n",
    "Ratios are often calculated as well,\n",
    "\n",
    "$$\n",
    "\\begin{align}\n",
    "L_1 &= \\mu \\\\\n",
    "L_2 &= \\sigma \\\\\n",
    "L_{cv} &= t_2 = \\frac{L_2}{L_1} \\\\\n",
    "L_{skew} &= t_3 = \\frac{L_3}{L2} \\\\\n",
    "L_{kurtosis} &= t_4 = \\frac{L_4}{L_2}\n",
    "\\end{align}\n",
    "$$\n",
    "\n",
    "### R functions"
   ]
  },
  {
   "cell_type": "code",
   "execution_count": 1,
   "metadata": {},
   "outputs": [
    {
     "data": {
      "text/html": [
       "<ol class=list-inline>\n",
       "\t<li>5.00360632444096</li>\n",
       "\t<li>1.65755266658416</li>\n",
       "\t<li>0.0428487254831751</li>\n",
       "\t<li>0.214036483590741</li>\n",
       "\t<li>&lt;NA&gt;</li>\n",
       "\t<li>0.331271598744202</li>\n",
       "\t<li>0.025850596694147</li>\n",
       "\t<li>0.129128013791454</li>\n",
       "</ol>\n"
      ],
      "text/latex": [
       "\\begin{enumerate*}\n",
       "\\item 5.00360632444096\n",
       "\\item 1.65755266658416\n",
       "\\item 0.0428487254831751\n",
       "\\item 0.214036483590741\n",
       "\\item <NA>\n",
       "\\item 0.331271598744202\n",
       "\\item 0.025850596694147\n",
       "\\item 0.129128013791454\n",
       "\\end{enumerate*}\n"
      ],
      "text/markdown": [
       "1. 5.00360632444096\n",
       "2. 1.65755266658416\n",
       "3. 0.0428487254831751\n",
       "4. 0.214036483590741\n",
       "5. &lt;NA&gt;\n",
       "6. 0.331271598744202\n",
       "7. 0.025850596694147\n",
       "8. 0.129128013791454\n",
       "\n",
       "\n"
      ],
      "text/plain": [
       "[1] 5.00360632 1.65755267 0.04284873 0.21403648         NA 0.33127160 0.02585060\n",
       "[8] 0.12912801"
      ]
     },
     "metadata": {},
     "output_type": "display_data"
    },
    {
     "data": {
      "text/html": [
       "<ol class=list-inline>\n",
       "\t<li>5.00360632444096</li>\n",
       "\t<li>-4.74166159339164</li>\n",
       "\t<li>5.00360632444096</li>\n",
       "\t<li>-4.74166159339164</li>\n",
       "\t<li>-0.947648812863272</li>\n",
       "\t<li>-1.05524323612938</li>\n",
       "\t<li>1</li>\n",
       "</ol>\n"
      ],
      "text/latex": [
       "\\begin{enumerate*}\n",
       "\\item 5.00360632444096\n",
       "\\item -4.74166159339164\n",
       "\\item 5.00360632444096\n",
       "\\item -4.74166159339164\n",
       "\\item -0.947648812863272\n",
       "\\item -1.05524323612938\n",
       "\\item 1\n",
       "\\end{enumerate*}\n"
      ],
      "text/markdown": [
       "1. 5.00360632444096\n",
       "2. -4.74166159339164\n",
       "3. 5.00360632444096\n",
       "4. -4.74166159339164\n",
       "5. -0.947648812863272\n",
       "6. -1.05524323612938\n",
       "7. 1\n",
       "\n",
       "\n"
      ],
      "text/plain": [
       "[1]  5.0036063 -4.7416616  5.0036063 -4.7416616 -0.9476488 -1.0552432  1.0000000"
      ]
     },
     "metadata": {},
     "output_type": "display_data"
    }
   ],
   "source": [
    "# beta 0\n",
    "b0 <- function(x){\n",
    "  x <- sort(x)\n",
    "  n <- length(x)\n",
    "  start <- 0\n",
    "  for(j in 1:n){start <- start + x[j]}\n",
    "  result <- (1/n)*start\n",
    "  return(result)\n",
    "}\n",
    "\n",
    "# beta 1\n",
    "b1 <- function(x){\n",
    "  x <- sort(x)\n",
    "  n <- length(x)\n",
    "  for(j in 2:n){temp <- x[j]*((j-1)/(n-1))}\n",
    "  result <- (1/n)*temp\n",
    "  return(result)\n",
    "}\n",
    "\n",
    "# beta 2\n",
    "b2 <- function(x){\n",
    "  x <- sort(x)\n",
    "  n <- length(x)\n",
    "  for(j in 3:n){temp <- x[j]*((j-1)*(j-2))/((n-1)*(n-2))}\n",
    "  result <- (1/n)*temp\n",
    "  return(result)\n",
    "}\n",
    "\n",
    "# beta 3\n",
    "b3 <- function(x){\n",
    "  x <- sort(x)\n",
    "  n <- length(x)\n",
    "  for(j in 4:n){temp <- x[j]*((j-1)*(j-2)*(j-3))/((n-1)*(n-2)*(n-3))}\n",
    "  result <- (1/n)*temp\n",
    "  return(result)\n",
    "}\n",
    "\n",
    "# L1\n",
    "L1 <- function(x){return(b0(x))}\n",
    "\n",
    "# L2 \n",
    "L2 <- function(x){return(2*b1(x)-b0(x))}\n",
    "\n",
    "# L3\n",
    "L3 <- function(x){return(6*b2(x)-6*b1(x)+b0(x))}\n",
    "\n",
    "# L4\n",
    "L4 <- function(x){return(20*b3(x)-30*b2(x)+12*b1(x)-b0(x))}\n",
    "\n",
    "# t2\n",
    "T2 <- function(x){return(L2(x)/L1(x))}\n",
    "\n",
    "# t3\n",
    "T3 <- function(x){return(L3(x)/L2(x))}\n",
    "\n",
    "# t4\n",
    "T4 <- function(x){return(L4(x)/L2(x))}\n",
    "\n",
    "lmoms_scw <- function(x){return(c(L1(x),L2(x),L3(x),L4(x),T2(x),T3(x),T4(x)))}\n",
    "\n",
    "# test\n",
    "x <- rnorm(100,5,3)\n",
    "\n",
    "library(lmomco)\n",
    "c(lmomco::lmoms(x, nmom=4)$lambdas,lmomco::lmoms(x, nmom=4)$ratios)\n",
    "lmoms_scw(x)"
   ]
  },
  {
   "cell_type": "code",
   "execution_count": null,
   "metadata": {},
   "outputs": [],
   "source": []
  },
  {
   "cell_type": "code",
   "execution_count": null,
   "metadata": {},
   "outputs": [],
   "source": []
  }
 ],
 "metadata": {
  "kernelspec": {
   "display_name": "R",
   "language": "R",
   "name": "ir"
  },
  "language_info": {
   "codemirror_mode": "r",
   "file_extension": ".r",
   "mimetype": "text/x-r-source",
   "name": "R",
   "pygments_lexer": "r",
   "version": "3.4.0"
  }
 },
 "nbformat": 4,
 "nbformat_minor": 2
}
