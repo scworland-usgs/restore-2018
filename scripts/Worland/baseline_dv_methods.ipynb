{
 "cells": [
  {
   "cell_type": "markdown",
   "metadata": {},
   "source": [
    "## Baseline methods for daily streamflow estimation\n",
    "\n",
    "scworland@usgs.gov, 11/14/2017\n",
    "\n",
    "### Preface\n",
    "\n",
    "This notebook contains notes, computer code, and supporting math for several baseline methods of estimating daily streamflow in ungaged basins.\n",
    "\n",
    "### Drainage area ratio\n",
    "\n",
    "Daily streamflows in an ungaged basin $y$ on day $t$ are predicted as:\n",
    "\n",
    "$$\n",
    "\\hat{Q}_{y,t} = \\frac{A_y}{A_x} Q_{x,t}\n",
    "$$\n",
    "\n",
    "Where $\\hat{Q}_{y,t}$ is the predicted streamflow a basin $y$, $A_y$ is the drainage area for basin $y$, $A_x$ is the drainage area of basin $x$, $Q_{x,t}$ is the known streamflow at basin $x$, and basin $x$ is an index basin for basin $y$. The index gage can be found using various measures of similarity. \n",
    "\n",
    "> We could modify this by (1) using a unsupervised learning technique on the covariate data set to select a cluster of basins that are similar to an ungaged basin of interest and then (2) use the average of the drainage area ratios to calculate the daily flow. Similar to using selecting a certain number of nearest neighbors in covariate space rather than geogrpahical space.\n",
    "\n",
    "### QPPQ\n",
    "\n",
    "The QPPQ method involves several steps:\n",
    "\n",
    "1. Regionalize quantiles at flow duration curves at ungaged sites \n",
    "2. Identify \"source\" flow sites and assign weights to the sites\n",
    "3. Aggregate FDC information from source sites\n",
    "4. Convert to discharge and take weighted average at ungaged site\n"
   ]
  },
  {
   "cell_type": "code",
   "execution_count": null,
   "metadata": {},
   "outputs": [],
   "source": []
  }
 ],
 "metadata": {
  "kernelspec": {
   "display_name": "R",
   "language": "R",
   "name": "ir"
  },
  "language_info": {
   "codemirror_mode": "r",
   "file_extension": ".r",
   "mimetype": "text/x-r-source",
   "name": "R",
   "pygments_lexer": "r",
   "version": "3.4.0"
  }
 },
 "nbformat": 4,
 "nbformat_minor": 2
}
