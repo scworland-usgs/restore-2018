{
 "cells": [
  {
   "cell_type": "markdown",
   "metadata": {},
   "source": [
    "## L-moments short example in R\n",
    "\n",
    "This document provides a short introduction to L-moments for pedagogical purposes.\n",
    "\n",
    "Starting with,\n",
    "\n",
    "$$\n",
    "\\begin{align}\n",
    "\\beta_0 &= \\frac{1}{n}\\sum_{j=1}^{n} x_j \\\\\n",
    "\\beta_1 &= \\frac{1}{n}\\sum_{j=2}^{n} x_j[(j-1)/(n-1)] \\\\\n",
    "\\beta_2 &= \\frac{1}{n}\\sum_{j=3}^{n} x_j[(j-1)(j-2)]/[(n-1)/(n-2)] \\\\\n",
    "\\beta_3 &= \\frac{1}{n}\\sum_{j=3}^{n} x_j[(j-1)(j-2)(j-3)]/[(n-1)/(n-2)(n-3)]\n",
    "\\end{align}\n",
    "$$\n",
    "\n",
    "$$\n",
    "\\beta_0 = \\frac{1}{n}\\sum_{j=1}^{n} x_j \n",
    "$$\n",
    "\n",
    "$$\n",
    "\\beta_1 = \\frac{1}{n}\\sum_{j=2}^{n} x_j[(j-1)/(n-1)] \n",
    "$$\n",
    "\n",
    "$$\n",
    "\\beta_2 = \\frac{1}{n}\\sum_{j=3}^{n} x_j[(j-1)(j-2)]/[(n-1)/(n-2)] \n",
    "$$\n",
    "\n",
    "$$\n",
    "\\beta_3 = \\frac{1}{n}\\sum_{j=3}^{n} x_j[(j-1)(j-2)(j-3)]/[(n-1)/(n-2)(n-3)]\n",
    "$$\n",
    "\n",
    "L1 through L4 can be calculated as follows,\n",
    "\n",
    "$$\n",
    "\\begin{align}\n",
    "L_1 &= \\beta_0 \\\\\n",
    "L_2 &= 2\\beta_1 - \\beta_0 \\\\\n",
    "L_3 &= 6\\beta_2 - 6\\beta_1 + \\beta_0 \\\\\n",
    "L_4 &= 20\\beta_3 - 30\\beta_2 + 12\\beta_1 - \\beta_0.\n",
    "\\end{align}\n",
    "$$\n",
    "\n",
    "Ratios are often calculated as well,\n",
    "\n",
    "$$\n",
    "\\begin{align}\n",
    "L_1 &= \\mu \\\\\n",
    "L_2 &= \\sigma \\\\\n",
    "L_{cv} &= t_2 = \\frac{L_2}{L_1} \\\\\n",
    "L_{skew} &= t_3 = \\frac{L_3}{L2} \\\\\n",
    "L_{kurtosis} &= t_4 = \\frac{L_4}{L_2}\n",
    "\\end{align}\n",
    "$$\n",
    "\n",
    "### R functions"
   ]
  },
  {
   "cell_type": "code",
   "execution_count": 2,
   "metadata": {},
   "outputs": [
    {
     "data": {
      "text/html": [
       "<ol class=list-inline>\n",
       "\t<li>4.84206405795524</li>\n",
       "\t<li>1.75921114792125</li>\n",
       "\t<li>0.00637833962429988</li>\n",
       "\t<li>0.235377369453909</li>\n",
       "\t<li>0.363318437522726</li>\n",
       "\t<li>0.00362568167660645</li>\n",
       "\t<li>0.133797111126791</li>\n",
       "</ol>\n"
      ],
      "text/latex": [
       "\\begin{enumerate*}\n",
       "\\item 4.84206405795524\n",
       "\\item 1.75921114792125\n",
       "\\item 0.00637833962429988\n",
       "\\item 0.235377369453909\n",
       "\\item 0.363318437522726\n",
       "\\item 0.00362568167660645\n",
       "\\item 0.133797111126791\n",
       "\\end{enumerate*}\n"
      ],
      "text/markdown": [
       "1. 4.84206405795524\n",
       "2. 1.75921114792125\n",
       "3. 0.00637833962429988\n",
       "4. 0.235377369453909\n",
       "5. 0.363318437522726\n",
       "6. 0.00362568167660645\n",
       "7. 0.133797111126791\n",
       "\n",
       "\n"
      ],
      "text/plain": [
       "[1] 4.842064058 1.759211148 0.006378340 0.235377369 0.363318438 0.003625682\n",
       "[7] 0.133797111"
      ]
     },
     "metadata": {},
     "output_type": "display_data"
    },
    {
     "data": {
      "text/html": [
       "<ol class=list-inline>\n",
       "\t<li>4.84206405795524</li>\n",
       "\t<li>1.75921114792125</li>\n",
       "\t<li>0.00637833962429735</li>\n",
       "\t<li>0.235377369453901</li>\n",
       "\t<li>0.363318437522726</li>\n",
       "\t<li>0.00362568167660501</li>\n",
       "\t<li>0.133797111126786</li>\n",
       "</ol>\n"
      ],
      "text/latex": [
       "\\begin{enumerate*}\n",
       "\\item 4.84206405795524\n",
       "\\item 1.75921114792125\n",
       "\\item 0.00637833962429735\n",
       "\\item 0.235377369453901\n",
       "\\item 0.363318437522726\n",
       "\\item 0.00362568167660501\n",
       "\\item 0.133797111126786\n",
       "\\end{enumerate*}\n"
      ],
      "text/markdown": [
       "1. 4.84206405795524\n",
       "2. 1.75921114792125\n",
       "3. 0.00637833962429735\n",
       "4. 0.235377369453901\n",
       "5. 0.363318437522726\n",
       "6. 0.00362568167660501\n",
       "7. 0.133797111126786\n",
       "\n",
       "\n"
      ],
      "text/plain": [
       "[1] 4.842064058 1.759211148 0.006378340 0.235377369 0.363318438 0.003625682\n",
       "[7] 0.133797111"
      ]
     },
     "metadata": {},
     "output_type": "display_data"
    },
    {
     "data": {
      "text/html": [
       "TRUE"
      ],
      "text/latex": [
       "TRUE"
      ],
      "text/markdown": [
       "TRUE"
      ],
      "text/plain": [
       "[1] TRUE"
      ]
     },
     "metadata": {},
     "output_type": "display_data"
    }
   ],
   "source": [
    "# beta 0\n",
    "b0 <- function(x){\n",
    "  x <- sort(x)\n",
    "  n <- length(x)\n",
    "  temp <- 0\n",
    "  for(j in 1:n){temp <- temp + x[j]}\n",
    "  result <- (1/n)*temp\n",
    "  return(result)\n",
    "}\n",
    "\n",
    "# beta 1\n",
    "b1 <- function(x){\n",
    "  x <- sort(x)\n",
    "  n <- length(x)\n",
    "  temp <- 0\n",
    "  for(j in 2:n){temp <- temp + (x[j]*((j-1)/(n-1)))}\n",
    "  result <- (1/n)*temp\n",
    "  return(result)\n",
    "}\n",
    "\n",
    "# beta 2\n",
    "b2 <- function(x){\n",
    "  x <- sort(x)\n",
    "  n <- length(x)\n",
    "  temp <- 0\n",
    "  for(j in 3:n){temp <- temp + (x[j]*((j-1)*(j-2))/((n-1)*(n-2)))}\n",
    "  result <- (1/n)*temp\n",
    "  return(result)\n",
    "}\n",
    "\n",
    "# beta 3\n",
    "b3 <- function(x){\n",
    "  x <- sort(x)\n",
    "  n <- length(x)\n",
    "  temp <- 0\n",
    "  for(j in 4:n){temp <- temp + (x[j]*((j-1)*(j-2)*(j-3))/((n-1)*(n-2)*(n-3)))}\n",
    "  result <- (1/n)*temp\n",
    "  return(result)\n",
    "}\n",
    "\n",
    "# L1\n",
    "L1 <- function(x){return(b0(x))}\n",
    "\n",
    "# L2 \n",
    "L2 <- function(x){return(2*b1(x)-b0(x))}\n",
    "\n",
    "# L3\n",
    "L3 <- function(x){return(6*b2(x)-6*b1(x)+b0(x))}\n",
    "\n",
    "# L4\n",
    "L4 <- function(x){return(20*b3(x)-30*b2(x)+12*b1(x)-b0(x))}\n",
    "\n",
    "# t2\n",
    "T2 <- function(x){return(L2(x)/L1(x))}\n",
    "\n",
    "# t3\n",
    "T3 <- function(x){return(L3(x)/L2(x))}\n",
    "\n",
    "# t4\n",
    "T4 <- function(x){return(L4(x)/L2(x))}\n",
    "\n",
    "lmoms_scw <- function(x){return(c(L1(x),L2(x),L3(x),L4(x),T2(x),T3(x),T4(x)))}\n",
    "\n",
    "# test\n",
    "x <- rnorm(100,5,3)\n",
    "\n",
    "obs <- c(lmomco::lmoms(x, nmom=4)$lambdas,lmomco::lmoms(x, nmom=4)$ratios[2:4])\n",
    "test <- lmoms_scw(x)\n",
    "\n",
    "obs\n",
    "test\n",
    "\n",
    "all.equal(obs,test)"
   ]
  },
  {
   "cell_type": "code",
   "execution_count": null,
   "metadata": {},
   "outputs": [],
   "source": []
  }
 ],
 "metadata": {
  "kernelspec": {
   "display_name": "R",
   "language": "R",
   "name": "ir"
  },
  "language_info": {
   "codemirror_mode": "r",
   "file_extension": ".r",
   "mimetype": "text/x-r-source",
   "name": "R",
   "pygments_lexer": "r",
   "version": "3.4.0"
  }
 },
 "nbformat": 4,
 "nbformat_minor": 2
}
